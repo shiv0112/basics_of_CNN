{
  "nbformat": 4,
  "nbformat_minor": 0,
  "metadata": {
    "colab": {
      "provenance": [],
      "collapsed_sections": []
    },
    "kernelspec": {
      "name": "python3",
      "display_name": "Python 3"
    },
    "language_info": {
      "name": "python"
    },
    "accelerator": "GPU"
  },
  "cells": [
    {
      "cell_type": "code",
      "execution_count": 1,
      "metadata": {
        "id": "JIUIs6f0AM4H"
      },
      "outputs": [],
      "source": [
        "import numpy as np\n",
        "import pandas as pd\n",
        "import tensorflow as tf\n",
        "import matplotlib.pyplot as plt\n",
        "import seaborn as sns"
      ]
    },
    {
      "cell_type": "code",
      "source": [
        "mnist = tf.keras.datasets.mnist"
      ],
      "metadata": {
        "id": "E-PXl1RWA2CV"
      },
      "execution_count": 2,
      "outputs": []
    },
    {
      "cell_type": "code",
      "source": [
        "(X_train_full, y_train_full), (X_test,y_test) = mnist.load_data()"
      ],
      "metadata": {
        "id": "NseeOvwUBGvl"
      },
      "execution_count": 3,
      "outputs": []
    },
    {
      "cell_type": "code",
      "source": [
        "X_valid, X_train = X_train_full[:5000]/255,X_train_full[5000:]/255\n",
        "y_valid, y_train = y_train_full[:5000],y_train_full[5000:]\n",
        "\n",
        "X_test = X_test/255"
      ],
      "metadata": {
        "id": "DUcWDG7qBv4N"
      },
      "execution_count": 4,
      "outputs": []
    },
    {
      "cell_type": "code",
      "source": [
        "X_train.shape"
      ],
      "metadata": {
        "colab": {
          "base_uri": "https://localhost:8080/"
        },
        "id": "e3zIZHtWBKvE",
        "outputId": "5c69d61b-367c-4f72-8bbd-c38af7b79bb1"
      },
      "execution_count": 5,
      "outputs": [
        {
          "output_type": "execute_result",
          "data": {
            "text/plain": [
              "(55000, 28, 28)"
            ]
          },
          "metadata": {},
          "execution_count": 5
        }
      ]
    },
    {
      "cell_type": "code",
      "source": [
        "X_train[0].shape"
      ],
      "metadata": {
        "colab": {
          "base_uri": "https://localhost:8080/"
        },
        "id": "uDH6RvEtBSY8",
        "outputId": "e88d44e2-9461-4137-c27d-155549f5489b"
      },
      "execution_count": 6,
      "outputs": [
        {
          "output_type": "execute_result",
          "data": {
            "text/plain": [
              "(28, 28)"
            ]
          },
          "metadata": {},
          "execution_count": 6
        }
      ]
    },
    {
      "cell_type": "code",
      "source": [
        "X_train = np.expand_dims(X_train,-1)\n",
        "X_test = np.expand_dims(X_test,-1)\n",
        "X_valid = np.expand_dims(X_valid,-1)\n",
        "print(X_train.shape,X_test.shape,X_valid.shape)"
      ],
      "metadata": {
        "colab": {
          "base_uri": "https://localhost:8080/"
        },
        "id": "ghdrIxxiBY9U",
        "outputId": "f01daa3b-7488-496f-b75a-59c264df112b"
      },
      "execution_count": 7,
      "outputs": [
        {
          "output_type": "stream",
          "name": "stdout",
          "text": [
            "(55000, 28, 28, 1) (10000, 28, 28, 1) (5000, 28, 28, 1)\n"
          ]
        }
      ]
    },
    {
      "cell_type": "code",
      "source": [
        "input_shape = (28, 28, 1)\n",
        "CLASSES = 10\n",
        "\n",
        "LAYERS = [\n",
        "    tf.keras.Input(shape=input_shape),\n",
        "    tf.keras.layers.Conv2D(32, kernel_size=(3,3), activation=\"relu\"),\n",
        "    tf.keras.layers.MaxPooling2D(pool_size=(2,2)),\n",
        "    tf.keras.layers.Conv2D(64, kernel_size=(3,3), activation=\"relu\"),\n",
        "    tf.keras.layers.MaxPooling2D(pool_size=(2,2)),\n",
        "    tf.keras.layers.Flatten(),\n",
        "    tf.keras.layers.Dense(CLASSES, activation=\"softmax\")\n",
        "]"
      ],
      "metadata": {
        "id": "ro4yZdwIBjrF"
      },
      "execution_count": 8,
      "outputs": []
    },
    {
      "cell_type": "code",
      "source": [
        "CNN_model = tf.keras.Sequential(\n",
        "    LAYERS\n",
        ")"
      ],
      "metadata": {
        "id": "K874S649CiY9"
      },
      "execution_count": 9,
      "outputs": []
    },
    {
      "cell_type": "code",
      "source": [
        "CNN_model.summary()"
      ],
      "metadata": {
        "colab": {
          "base_uri": "https://localhost:8080/"
        },
        "id": "bvsNU0j9ClQE",
        "outputId": "2fff3ed3-1636-4afc-f8fb-5b41f9b62e27"
      },
      "execution_count": 10,
      "outputs": [
        {
          "output_type": "stream",
          "name": "stdout",
          "text": [
            "Model: \"sequential\"\n",
            "_________________________________________________________________\n",
            " Layer (type)                Output Shape              Param #   \n",
            "=================================================================\n",
            " conv2d (Conv2D)             (None, 26, 26, 32)        320       \n",
            "                                                                 \n",
            " max_pooling2d (MaxPooling2D  (None, 13, 13, 32)       0         \n",
            " )                                                               \n",
            "                                                                 \n",
            " conv2d_1 (Conv2D)           (None, 11, 11, 64)        18496     \n",
            "                                                                 \n",
            " max_pooling2d_1 (MaxPooling  (None, 5, 5, 64)         0         \n",
            " 2D)                                                             \n",
            "                                                                 \n",
            " flatten (Flatten)           (None, 1600)              0         \n",
            "                                                                 \n",
            " dense (Dense)               (None, 10)                16010     \n",
            "                                                                 \n",
            "=================================================================\n",
            "Total params: 34,826\n",
            "Trainable params: 34,826\n",
            "Non-trainable params: 0\n",
            "_________________________________________________________________\n"
          ]
        }
      ]
    },
    {
      "cell_type": "code",
      "source": [
        "CNN_model.compile(loss=\"sparse_categorical_crossentropy\",\n",
        "                  optimizer=\"SGD\",\n",
        "                  metrics=[\"accuracy\"]\n",
        "                  )"
      ],
      "metadata": {
        "id": "ShOlYhjwCmo8"
      },
      "execution_count": 11,
      "outputs": []
    },
    {
      "cell_type": "code",
      "source": [
        "history = CNN_model.fit(\n",
        "    X_train, y_train, epochs=10,validation_data = (X_valid, y_valid)\n",
        ")"
      ],
      "metadata": {
        "colab": {
          "base_uri": "https://localhost:8080/"
        },
        "id": "qapKjvMvCozb",
        "outputId": "ff3b297d-d919-482b-b1a9-becf89262a59"
      },
      "execution_count": null,
      "outputs": [
        {
          "output_type": "stream",
          "name": "stdout",
          "text": [
            "Epoch 1/10\n",
            "1719/1719 [==============================] - 81s 47ms/step - loss: 0.3419 - accuracy: 0.8979 - val_loss: 0.2013 - val_accuracy: 0.9418\n",
            "Epoch 2/10\n",
            "1719/1719 [==============================] - 64s 37ms/step - loss: 0.1669 - accuracy: 0.9509 - val_loss: 0.1229 - val_accuracy: 0.9644\n",
            "Epoch 3/10\n",
            "1719/1719 [==============================] - 73s 42ms/step - loss: 0.1201 - accuracy: 0.9655 - val_loss: 0.1087 - val_accuracy: 0.9674\n",
            "Epoch 4/10\n",
            "1623/1719 [===========================>..] - ETA: 3s - loss: 0.0998 - accuracy: 0.9703"
          ]
        }
      ]
    },
    {
      "cell_type": "code",
      "source": [
        "pd.DataFrame(history.history).plot(figsize=(10,7))\n",
        "plt.grid(True)\n",
        "plt.show()"
      ],
      "metadata": {
        "id": "Glkwzv6GCqms"
      },
      "execution_count": null,
      "outputs": []
    },
    {
      "cell_type": "code",
      "source": [
        "CNN_model.evaluate(X_test,y_test)"
      ],
      "metadata": {
        "id": "FwZFURWYCsAM"
      },
      "execution_count": null,
      "outputs": []
    },
    {
      "cell_type": "code",
      "source": [
        "CNN_model.save(\"mnist_cnn.h5\")"
      ],
      "metadata": {
        "id": "JWJpULt3CtZN"
      },
      "execution_count": null,
      "outputs": []
    },
    {
      "cell_type": "code",
      "source": [
        "X_new = X_test[:3]\n",
        "\n",
        "y_prob = CNN_model.predict(X_new)\n",
        "y_prob.round(3)"
      ],
      "metadata": {
        "id": "TKXzj4aPCx4D"
      },
      "execution_count": null,
      "outputs": []
    },
    {
      "cell_type": "code",
      "source": [
        "Y_pred = np.argmax(y_prob, axis=-1)\n",
        "Y_pred"
      ],
      "metadata": {
        "id": "eguAPYjcCyE8"
      },
      "execution_count": null,
      "outputs": []
    },
    {
      "cell_type": "code",
      "source": [
        "for img_array, pred, actual in zip(X_new, Y_pred, y_test[:3]):\n",
        "    plt.imshow(img_array, cmap=\"gray\")\n",
        "    plt.title(f\"predicted: {pred}, actual: {actual}\")\n",
        "    plt.axis(\"off\")\n",
        "    plt.show()\n",
        "    print(\"--\"*30)"
      ],
      "metadata": {
        "id": "tg4aWg7fCztF"
      },
      "execution_count": null,
      "outputs": []
    },
    {
      "cell_type": "markdown",
      "source": [
        "# Transfer Learning\n",
        "\n",
        "## Even Odd usecase for CNN Model"
      ],
      "metadata": {
        "id": "IQl3MjdKDRab"
      }
    },
    {
      "cell_type": "code",
      "source": [
        "def update_labels(labels):\n",
        "    for idx,label in enumerate(labels):\n",
        "        labels[idx] = np.where(label%2 == 0 , 1 , 0)\n",
        "    return labels"
      ],
      "metadata": {
        "id": "9KAGp6fiDIVL"
      },
      "execution_count": null,
      "outputs": []
    },
    {
      "cell_type": "code",
      "source": [
        "y_train_bin, y_test_bin, y_valid_bin = update_labels([y_train, y_test, y_valid]) "
      ],
      "metadata": {
        "id": "-o3Z442uDeEi"
      },
      "execution_count": null,
      "outputs": []
    },
    {
      "cell_type": "code",
      "source": [
        "pretrained_model = tf.keras.models.load_model(\"mnist_cnn.h5\")"
      ],
      "metadata": {
        "id": "jis-0zkaDf1z"
      },
      "execution_count": null,
      "outputs": []
    },
    {
      "cell_type": "code",
      "source": [
        "pretrained_model.summary()"
      ],
      "metadata": {
        "id": "xSTdK7EcDs_L"
      },
      "execution_count": null,
      "outputs": []
    },
    {
      "cell_type": "code",
      "source": [
        "for layer in pretrained_model.layers:\n",
        "    print(f\"{layer.name}: {layer.trainable}\")"
      ],
      "metadata": {
        "id": "OB7hCf_IDuJL"
      },
      "execution_count": null,
      "outputs": []
    },
    {
      "cell_type": "code",
      "source": [
        " "
      ],
      "metadata": {
        "id": "zUVdLsWIDwp6"
      },
      "execution_count": null,
      "outputs": []
    }
  ]
}